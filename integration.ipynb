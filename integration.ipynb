{
 "metadata": {
  "language_info": {
   "codemirror_mode": {
    "name": "ipython",
    "version": 3
   },
   "file_extension": ".py",
   "mimetype": "text/x-python",
   "name": "python",
   "nbconvert_exporter": "python",
   "pygments_lexer": "ipython3",
   "version": "3.8.5-final"
  },
  "orig_nbformat": 2,
  "kernelspec": {
   "name": "python38564bitdd50329a5d0b47d698b9095595418ddd",
   "display_name": "Python 3.8.5 64-bit",
   "language": "python"
  }
 },
 "nbformat": 4,
 "nbformat_minor": 2,
 "cells": [
  {
   "cell_type": "code",
   "execution_count": null,
   "metadata": {},
   "outputs": [],
   "source": [
    "import numpy as np\n",
    "import matplotlib.pyplot as plt"
   ]
  },
  {
   "cell_type": "code",
   "execution_count": null,
   "metadata": {},
   "outputs": [],
   "source": [
    "rectangleRule = lambda a,b,f: (b-a)*f(a)"
   ]
  },
  {
   "cell_type": "code",
   "execution_count": null,
   "metadata": {},
   "outputs": [],
   "source": [
    "midpointRule = lambda a,b,f: (b-a)*f((b+a)/2)"
   ]
  },
  {
   "cell_type": "code",
   "execution_count": null,
   "metadata": {},
   "outputs": [],
   "source": [
    "trapezoidalRule = lambda a,b,f:(b-a)/2*(f(a)+f(b))"
   ]
  },
  {
   "cell_type": "code",
   "execution_count": null,
   "metadata": {},
   "outputs": [],
   "source": [
    "f = lambda x: np.exp(x)*np.cos(x)\n",
    "print(trapezoidalRule(0,1.2,f))"
   ]
  },
  {
   "cell_type": "code",
   "execution_count": null,
   "metadata": {},
   "outputs": [],
   "source": [
    "def simpsonOneThirdRule(a,b,f):\n",
    "    h = (b-a)/2\n",
    "    return h/3*(f(a)+4*f(h)+f(b))"
   ]
  },
  {
   "cell_type": "code",
   "execution_count": null,
   "metadata": {},
   "outputs": [],
   "source": [
    "print(simpsonOneThirdRule(0,1.2,f))"
   ]
  },
  {
   "cell_type": "code",
   "execution_count": null,
   "metadata": {},
   "outputs": [],
   "source": [
    "def simpsonThirdEighth(a,b,f):\n",
    "    h = (b-a)/3\n",
    "    return 3*h/8*(f(a)+3*f(h)+3*f(2*h)+f(b))"
   ]
  },
  {
   "cell_type": "code",
   "execution_count": null,
   "metadata": {},
   "outputs": [],
   "source": [
    "print(simpsonThirdEighth(0,1.2,f))"
   ]
  },
  {
   "cell_type": "code",
   "execution_count": null,
   "metadata": {},
   "outputs": [],
   "source": [
    "def generalizedRectangleRule(x,f):\n",
    "    result = 0\n",
    "    for i in range(len(x)-1):\n",
    "        result += rectangleRule(x[i],x[i+1],f)\n",
    "    return result"
   ]
  },
  {
   "cell_type": "code",
   "execution_count": null,
   "metadata": {},
   "outputs": [],
   "source": [
    "def generalizedMidpointRule(x,f):\n",
    "    result = 0\n",
    "    for i in range(len(x)-1):\n",
    "        result += midpointRule(x[i],x[i+1],f)\n",
    "    return result"
   ]
  },
  {
   "cell_type": "code",
   "execution_count": null,
   "metadata": {},
   "outputs": [],
   "source": [
    "def generalizedTrapezoidalRule(x,f):\n",
    "    result = 0\n",
    "    h = 0.2\n",
    "    for i in range(1,len(x)-1):\n",
    "        result+=f(x[i])\n",
    "    return h/2*(2*result+f(x[0])+f(x[len(x)-1]))"
   ]
  },
  {
   "cell_type": "code",
   "execution_count": null,
   "metadata": {},
   "outputs": [],
   "source": [
    "x = [0,0.2,0.4,0.6,0.8,1,1.2]\n",
    "print(generalizedTrapezoidalRule(x,f))\n"
   ]
  },
  {
   "cell_type": "code",
   "execution_count": null,
   "metadata": {},
   "outputs": [],
   "source": [
    "def generalizedSimpsonOneThird(x,f):\n",
    "    result = 0\n",
    "    h=0.2\n",
    "    for i in range(1,len(x)-1):\n",
    "        result+= (2 if i%2 == 0 else 4)*f(x[i])\n",
    "    return h/3*(result+f(x[0])+f(x[len(x)-1]))"
   ]
  },
  {
   "cell_type": "code",
   "execution_count": null,
   "metadata": {},
   "outputs": [],
   "source": [
    "print(generalizedSimpsonOneThird(x,f))"
   ]
  },
  {
   "cell_type": "code",
   "execution_count": null,
   "metadata": {},
   "outputs": [],
   "source": [
    "def generalizedSimpsonThirdEighth(x,f):\n",
    "    result = 0\n",
    "    h = 0.2\n",
    "    for i in range(1,len(x)-1):\n",
    "        result += (2 if i%3 == 0 else 3)*f(x[i])\n",
    "    return 3*h/8*(result+f(x[0])+f(x[len(x)-1]))"
   ]
  },
  {
   "cell_type": "code",
   "execution_count": null,
   "metadata": {},
   "outputs": [],
   "source": [
    "print(0.6/8*21.981)\n",
    "print(generalizedSimpsonThirdEighth(x,f))"
   ]
  },
  {
   "cell_type": "code",
   "execution_count": null,
   "metadata": {},
   "outputs": [],
   "source": [
    "def indeterminatedCoefficients(x0,x1,f):\n",
    "    A = np.matrix([\n",
    "        [1,1,1],\n",
    "        [x0,(x0+x1)/2,x1],\n",
    "        [x0**2,((x0+x1)/2)**2,x1**2]\n",
    "    ])\n",
    "    b = np.array([\n",
    "        x1-x0,\n",
    "        (x1**2-x0**2)/2,\n",
    "        (x1**3-x0**3)/3\n",
    "    ])\n",
    "    x = np.linalg.solve(A,b)\n",
    "    return x[0]*f(x0)+x[1]*f((x0+x1)/2)+x[2]*f(x1)"
   ]
  },
  {
   "cell_type": "code",
   "execution_count": null,
   "metadata": {},
   "outputs": [],
   "source": [
    "f = lambda x: np.cos(np.pi*x/2)\n",
    "print(indeterminatedCoefficients(0,1,f))"
   ]
  },
  {
   "cell_type": "code",
   "execution_count": null,
   "metadata": {},
   "outputs": [],
   "source": [
    "f = lambda x: np.exp(x)\n",
    "print(indeterminatedCoefficients(0,1,f))"
   ]
  },
  {
   "cell_type": "code",
   "execution_count": null,
   "metadata": {},
   "outputs": [],
   "source": [
    "def twoPointsGaussQuadrature(a,b,f):\n",
    "    x = lambda t:(b-a)*t/2+(b+a)/2\n",
    "    F = lambda t:f(x(t))\n",
    "    return F(-(3**(1/2)/3))+F(3**(1/2)/3)"
   ]
  },
  {
   "cell_type": "code",
   "execution_count": null,
   "metadata": {},
   "outputs": [],
   "source": [
    "f = lambda x: 3*np.exp(x)\n",
    "print(twoPointsGaussQuadrature(1,3,f))"
   ]
  },
  {
   "cell_type": "code",
   "execution_count": null,
   "metadata": {},
   "outputs": [],
   "source": [
    "f = lambda x: x**2-1\n",
    "print(twoPointsGaussQuadrature(-2,0,f))"
   ]
  },
  {
   "cell_type": "code",
   "execution_count": null,
   "metadata": {},
   "outputs": [],
   "source": []
  }
 ]
}