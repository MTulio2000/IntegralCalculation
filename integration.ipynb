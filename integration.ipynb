{
 "metadata": {
  "language_info": {
   "codemirror_mode": {
    "name": "ipython",
    "version": 3
   },
   "file_extension": ".py",
   "mimetype": "text/x-python",
   "name": "python",
   "nbconvert_exporter": "python",
   "pygments_lexer": "ipython3",
   "version": "3.8.5-final"
  },
  "orig_nbformat": 2,
  "kernelspec": {
   "name": "python385jvsc74a57bd031f2aee4e71d21fbe5cf8b01ff0e069b9275f58929596ceb00d14d90e3e16cd6",
   "display_name": "Python 3.8.5 64-bit"
  },
  "metadata": {
   "interpreter": {
    "hash": "31f2aee4e71d21fbe5cf8b01ff0e069b9275f58929596ceb00d14d90e3e16cd6"
   }
  }
 },
 "nbformat": 4,
 "nbformat_minor": 2,
 "cells": [
  {
   "cell_type": "code",
   "execution_count": 1,
   "metadata": {},
   "outputs": [],
   "source": [
    "import numpy as np\n",
    "import matplotlib.pyplot as plt"
   ]
  },
  {
   "cell_type": "code",
   "execution_count": 2,
   "metadata": {},
   "outputs": [],
   "source": [
    "rectangleRule = lambda a,b,f: (b-a)*f(a)"
   ]
  },
  {
   "cell_type": "code",
   "execution_count": 3,
   "metadata": {},
   "outputs": [],
   "source": [
    "midpointRule = lambda a,b,f: (b-a)*f((b+a)/2)"
   ]
  },
  {
   "cell_type": "code",
   "execution_count": 4,
   "metadata": {},
   "outputs": [],
   "source": [
    "trapezoidalRule = lambda a,b,f:(b-a)/2*(f(a)+f(b))"
   ]
  },
  {
   "cell_type": "code",
   "execution_count": 5,
   "metadata": {},
   "outputs": [],
   "source": [
    "def simpsonOneThirdRule(a,b,f):\n",
    "    h = (b-a)/2\n",
    "    return h/3*(f(a)+4*f(h)+f(b))"
   ]
  },
  {
   "cell_type": "code",
   "execution_count": 6,
   "metadata": {},
   "outputs": [],
   "source": [
    "def simpsonThirdEighth(a,b,f):\n",
    "    h = (b-a)/3\n",
    "    return 3*h/8*(f(a)+3*f(h)+3*f(2*h)+f(b))"
   ]
  },
  {
   "cell_type": "code",
   "execution_count": 7,
   "metadata": {},
   "outputs": [],
   "source": [
    "def generalizedRectangleRule(x,f):\n",
    "    result = 0\n",
    "    for i in range(len(x)-1):\n",
    "        result += rectangleRule(x[i],x[i+1],f)\n",
    "    return result"
   ]
  },
  {
   "cell_type": "code",
   "execution_count": 8,
   "metadata": {},
   "outputs": [],
   "source": [
    "def generalizedMidpointRule(x,f):\n",
    "    result = 0\n",
    "    for i in range(len(x)-1):\n",
    "        result += midpointRule(x[i],x[i+1],f)\n",
    "    return result"
   ]
  },
  {
   "cell_type": "code",
   "execution_count": 9,
   "metadata": {},
   "outputs": [],
   "source": [
    "def generalizedTrapezoidalRule(a,b,n,f):\n",
    "    result,h = 0,np.around((b-a)/(n-1),2)\n",
    "    for i in range(1,n-1):\n",
    "        result+=2*f(a+h*i)\n",
    "    return h/2*(f(a)+f(b)+result)"
   ]
  },
  {
   "cell_type": "code",
   "execution_count": 10,
   "metadata": {},
   "outputs": [],
   "source": [
    "def generalizedSimpsonOneThird(a,b,n,f):\n",
    "    result,h = 0,np.around((b-a)/(n-1),2)\n",
    "    for i in range(1,n-1):\n",
    "        result+= (2 if i%2 == 0 else 4)*f(a+h*i)\n",
    "    return h/3*(result+f(a)+f(b))"
   ]
  },
  {
   "cell_type": "code",
   "execution_count": 11,
   "metadata": {},
   "outputs": [],
   "source": [
    "def generalizedSimpsonThirdEighth(a,b,n,f):\n",
    "    result,h = 0,np.around((b-a)/(n-1),2)\n",
    "    for i in range(1,n-1):\n",
    "        result += (2 if i%3 == 0 else 3)*f(a+h*i)\n",
    "    return 3*h/8*(result+f(a)+f(b))"
   ]
  },
  {
   "cell_type": "code",
   "execution_count": 12,
   "metadata": {},
   "outputs": [],
   "source": [
    "def indeterminatedCoefficients(x0,x1,f):\n",
    "    A = np.matrix([\n",
    "        [1,1,1],\n",
    "        [x0,(x0+x1)/2,x1],\n",
    "        [x0**2,((x0+x1)/2)**2,x1**2]\n",
    "    ])\n",
    "    b = np.array([\n",
    "        x1-x0,\n",
    "        (x1**2-x0**2)/2,\n",
    "        (x1**3-x0**3)/3\n",
    "    ])\n",
    "    x = np.linalg.solve(A,b)\n",
    "    return x[0]*f(x0)+x[1]*f((x0+x1)/2)+x[2]*f(x1)"
   ]
  },
  {
   "cell_type": "code",
   "execution_count": 13,
   "metadata": {},
   "outputs": [],
   "source": [
    "def twoPointsGaussQuadrature(a,b,f):\n",
    "    x = lambda t: (b-a)*t/2+(b+a)/2\n",
    "    F = lambda t:f(x(t))\n",
    "    return F(-(3**(1/2)/3))+F(3**(1/2)/3)\n",
    "def threePointsGaussQuadrature(a,b,f):\n",
    "    x = lambda t: (b-a)*t/2+(b+a)/2\n",
    "    F = lambda t:f(x(t))\n",
    "    return 5/9*(F(-((3/5)**(1/2)))+F((3/5)**(1/2)))+8/9*F(0)"
   ]
  },
  {
   "cell_type": "code",
   "execution_count": 14,
   "metadata": {},
   "outputs": [
    {
     "output_type": "stream",
     "name": "stdout",
     "text": [
      "Trapezoidal Rule ->  1.3218420676336913\nSimpson 1/3 Rule ->  1.6437016549915924\nSimpsom 3/8 Rule ->  1.646535392971148\nGeneralized Trapezoidal Rule ->  1.6391510787773833\nGeneralized Simpson 1/3 Rule ->  1.6487153194289974\nGeneralized Simpson 3/8 Rule ->  1.6486403688555418\n"
     ]
    }
   ],
   "source": [
    "f = lambda x: np.exp(x)*np.cos(x)\n",
    "print(\"Trapezoidal Rule -> \",trapezoidalRule(0,1.2,f))\n",
    "print(\"Simpson 1/3 Rule -> \",simpsonOneThirdRule(0,1.2,f))\n",
    "print(\"Simpsom 3/8 Rule -> \",simpsonThirdEighth(0,1.2,f))\n",
    "print(\"Generalized Trapezoidal Rule -> \",generalizedTrapezoidalRule(0,1.2,7,f))\n",
    "print(\"Generalized Simpson 1/3 Rule -> \",generalizedSimpsonOneThird(0,1.2,7,f))\n",
    "print(\"Generalized Simpson 3/8 Rule -> \",generalizedSimpsonThirdEighth(0,1.2,7,f))"
   ]
  },
  {
   "cell_type": "code",
   "execution_count": 15,
   "metadata": {},
   "outputs": [
    {
     "output_type": "stream",
     "name": "stdout",
     "text": [
      "Indeterminated Coefficients -> 0.6380711874576984\n"
     ]
    }
   ],
   "source": [
    "f = lambda x: np.cos(np.pi*x/2)\n",
    "print(\"Indeterminated Coefficients ->\",indeterminatedCoefficients(0,1,f))"
   ]
  },
  {
   "cell_type": "code",
   "execution_count": 16,
   "metadata": {},
   "outputs": [
    {
     "output_type": "stream",
     "name": "stdout",
     "text": [
      "1.718861151876593\n"
     ]
    }
   ],
   "source": [
    "f = lambda x: np.exp(x)\n",
    "print(indeterminatedCoefficients(0,1,f))"
   ]
  },
  {
   "cell_type": "code",
   "execution_count": 17,
   "metadata": {},
   "outputs": [
    {
     "output_type": "stream",
     "name": "stdout",
     "text": [
      "51.93093844893111\n52.1003142522149\n"
     ]
    }
   ],
   "source": [
    "f = lambda x: 3*np.exp(x)\n",
    "print(twoPointsGaussQuadrature(1,3,f))\n",
    "print(threePointsGaussQuadrature(1,3,f))"
   ]
  },
  {
   "cell_type": "code",
   "execution_count": 18,
   "metadata": {},
   "outputs": [
    {
     "output_type": "stream",
     "name": "stdout",
     "text": [
      "0.6666666666666667\n"
     ]
    }
   ],
   "source": [
    "f = lambda x: x**2-1\n",
    "print(twoPointsGaussQuadrature(-2,0,f))"
   ]
  }
 ]
}